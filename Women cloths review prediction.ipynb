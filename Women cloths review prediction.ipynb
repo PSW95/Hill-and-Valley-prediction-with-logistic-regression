{
 "cells": [
  {
   "cell_type": "markdown",
   "id": "57fdc534",
   "metadata": {},
   "source": [
    "# Title of Project:-"
   ]
  },
  {
   "cell_type": "markdown",
   "id": "d86c1073",
   "metadata": {},
   "source": [
    "# Women Cloth Reviews Prediction with Multi Nomial Naïve Bayes\n"
   ]
  },
  {
   "cell_type": "markdown",
   "id": "35111267",
   "metadata": {},
   "source": [
    "# Objective:-"
   ]
  },
  {
   "cell_type": "raw",
   "id": "8295ca41",
   "metadata": {},
   "source": [
    "The Multinomial Naive Bayes classifier is suitable for the classification with discrete features(eg.word counts for text classification.)The Multinomial distribution normally requires integer features counts.However in practice fractional count such as tf-idf may also work.."
   ]
  },
  {
   "cell_type": "markdown",
   "id": "2eb78e15",
   "metadata": {},
   "source": [
    "# Import Library"
   ]
  },
  {
   "cell_type": "code",
   "execution_count": null,
   "id": "78ac5ffd",
   "metadata": {},
   "outputs": [],
   "source": [
    "import pandas as pd"
   ]
  },
  {
   "cell_type": "code",
   "execution_count": 231,
   "id": "b2675773",
   "metadata": {},
   "outputs": [],
   "source": [
    "import numpy as np"
   ]
  },
  {
   "cell_type": "code",
   "execution_count": 289,
   "id": "3df36f88",
   "metadata": {},
   "outputs": [],
   "source": [
    "import matplotlib.pyplot as plt"
   ]
  },
  {
   "cell_type": "markdown",
   "id": "af6b0b82",
   "metadata": {},
   "source": [
    "# Import Dataset"
   ]
  },
  {
   "cell_type": "code",
   "execution_count": 233,
   "id": "529e40ea",
   "metadata": {},
   "outputs": [],
   "source": [
    "data=pd.read_csv('https://github.com/YBIFoundation/ProjectHub-MachineLearning/raw/main/Women%20Clothing%20E-Commerce%20Review.csv')"
   ]
  },
  {
   "cell_type": "code",
   "execution_count": 234,
   "id": "7df40606",
   "metadata": {},
   "outputs": [
    {
     "data": {
      "text/html": [
       "<div>\n",
       "<style scoped>\n",
       "    .dataframe tbody tr th:only-of-type {\n",
       "        vertical-align: middle;\n",
       "    }\n",
       "\n",
       "    .dataframe tbody tr th {\n",
       "        vertical-align: top;\n",
       "    }\n",
       "\n",
       "    .dataframe thead th {\n",
       "        text-align: right;\n",
       "    }\n",
       "</style>\n",
       "<table border=\"1\" class=\"dataframe\">\n",
       "  <thead>\n",
       "    <tr style=\"text-align: right;\">\n",
       "      <th></th>\n",
       "      <th>Clothing ID</th>\n",
       "      <th>Age</th>\n",
       "      <th>Title</th>\n",
       "      <th>Review</th>\n",
       "      <th>Rating</th>\n",
       "      <th>Recommended</th>\n",
       "      <th>Positive Feedback</th>\n",
       "      <th>Division</th>\n",
       "      <th>Department</th>\n",
       "      <th>Category</th>\n",
       "    </tr>\n",
       "  </thead>\n",
       "  <tbody>\n",
       "    <tr>\n",
       "      <th>0</th>\n",
       "      <td>767</td>\n",
       "      <td>33</td>\n",
       "      <td>NaN</td>\n",
       "      <td>Absolutely wonderful - silky and sexy and comf...</td>\n",
       "      <td>4</td>\n",
       "      <td>1</td>\n",
       "      <td>0</td>\n",
       "      <td>Initmates</td>\n",
       "      <td>Intimate</td>\n",
       "      <td>Intimates</td>\n",
       "    </tr>\n",
       "    <tr>\n",
       "      <th>1</th>\n",
       "      <td>1080</td>\n",
       "      <td>34</td>\n",
       "      <td>NaN</td>\n",
       "      <td>Love this dress!  it's sooo pretty.  i happene...</td>\n",
       "      <td>5</td>\n",
       "      <td>1</td>\n",
       "      <td>4</td>\n",
       "      <td>General</td>\n",
       "      <td>Dresses</td>\n",
       "      <td>Dresses</td>\n",
       "    </tr>\n",
       "    <tr>\n",
       "      <th>2</th>\n",
       "      <td>1077</td>\n",
       "      <td>60</td>\n",
       "      <td>Some major design flaws</td>\n",
       "      <td>I had such high hopes for this dress and reall...</td>\n",
       "      <td>3</td>\n",
       "      <td>0</td>\n",
       "      <td>0</td>\n",
       "      <td>General</td>\n",
       "      <td>Dresses</td>\n",
       "      <td>Dresses</td>\n",
       "    </tr>\n",
       "    <tr>\n",
       "      <th>3</th>\n",
       "      <td>1049</td>\n",
       "      <td>50</td>\n",
       "      <td>My favorite buy!</td>\n",
       "      <td>I love, love, love this jumpsuit. it's fun, fl...</td>\n",
       "      <td>5</td>\n",
       "      <td>1</td>\n",
       "      <td>0</td>\n",
       "      <td>General Petite</td>\n",
       "      <td>Bottoms</td>\n",
       "      <td>Pants</td>\n",
       "    </tr>\n",
       "    <tr>\n",
       "      <th>4</th>\n",
       "      <td>847</td>\n",
       "      <td>47</td>\n",
       "      <td>Flattering shirt</td>\n",
       "      <td>This shirt is very flattering to all due to th...</td>\n",
       "      <td>5</td>\n",
       "      <td>1</td>\n",
       "      <td>6</td>\n",
       "      <td>General</td>\n",
       "      <td>Tops</td>\n",
       "      <td>Blouses</td>\n",
       "    </tr>\n",
       "  </tbody>\n",
       "</table>\n",
       "</div>"
      ],
      "text/plain": [
       "   Clothing ID  Age                    Title  \\\n",
       "0          767   33                      NaN   \n",
       "1         1080   34                      NaN   \n",
       "2         1077   60  Some major design flaws   \n",
       "3         1049   50         My favorite buy!   \n",
       "4          847   47         Flattering shirt   \n",
       "\n",
       "                                              Review  Rating  Recommended  \\\n",
       "0  Absolutely wonderful - silky and sexy and comf...       4            1   \n",
       "1  Love this dress!  it's sooo pretty.  i happene...       5            1   \n",
       "2  I had such high hopes for this dress and reall...       3            0   \n",
       "3  I love, love, love this jumpsuit. it's fun, fl...       5            1   \n",
       "4  This shirt is very flattering to all due to th...       5            1   \n",
       "\n",
       "   Positive Feedback        Division Department   Category  \n",
       "0                  0       Initmates   Intimate  Intimates  \n",
       "1                  4         General    Dresses    Dresses  \n",
       "2                  0         General    Dresses    Dresses  \n",
       "3                  0  General Petite    Bottoms      Pants  \n",
       "4                  6         General       Tops    Blouses  "
      ]
     },
     "execution_count": 234,
     "metadata": {},
     "output_type": "execute_result"
    }
   ],
   "source": [
    "data.head()"
   ]
  },
  {
   "cell_type": "code",
   "execution_count": 235,
   "id": "80762069",
   "metadata": {},
   "outputs": [
    {
     "name": "stdout",
     "output_type": "stream",
     "text": [
      "<class 'pandas.core.frame.DataFrame'>\n",
      "RangeIndex: 23486 entries, 0 to 23485\n",
      "Data columns (total 10 columns):\n",
      " #   Column             Non-Null Count  Dtype \n",
      "---  ------             --------------  ----- \n",
      " 0   Clothing ID        23486 non-null  int64 \n",
      " 1   Age                23486 non-null  int64 \n",
      " 2   Title              19676 non-null  object\n",
      " 3   Review             22641 non-null  object\n",
      " 4   Rating             23486 non-null  int64 \n",
      " 5   Recommended        23486 non-null  int64 \n",
      " 6   Positive Feedback  23486 non-null  int64 \n",
      " 7   Division           23472 non-null  object\n",
      " 8   Department         23472 non-null  object\n",
      " 9   Category           23472 non-null  object\n",
      "dtypes: int64(5), object(5)\n",
      "memory usage: 1.8+ MB\n"
     ]
    }
   ],
   "source": [
    "data.info()"
   ]
  },
  {
   "cell_type": "code",
   "execution_count": 236,
   "id": "44d705cc",
   "metadata": {},
   "outputs": [
    {
     "data": {
      "text/plain": [
       "<bound method NDFrame.describe of        Clothing ID  Age                                              Title  \\\n",
       "0              767   33                                                NaN   \n",
       "1             1080   34                                                NaN   \n",
       "2             1077   60                            Some major design flaws   \n",
       "3             1049   50                                   My favorite buy!   \n",
       "4              847   47                                   Flattering shirt   \n",
       "...            ...  ...                                                ...   \n",
       "23481         1104   34                     Great dress for many occasions   \n",
       "23482          862   48                         Wish it was made of cotton   \n",
       "23483         1104   31                              Cute, but see through   \n",
       "23484         1084   28  Very cute dress, perfect for summer parties an...   \n",
       "23485         1104   52                    Please make more like this one!   \n",
       "\n",
       "                                                  Review  Rating  Recommended  \\\n",
       "0      Absolutely wonderful - silky and sexy and comf...       4            1   \n",
       "1      Love this dress!  it's sooo pretty.  i happene...       5            1   \n",
       "2      I had such high hopes for this dress and reall...       3            0   \n",
       "3      I love, love, love this jumpsuit. it's fun, fl...       5            1   \n",
       "4      This shirt is very flattering to all due to th...       5            1   \n",
       "...                                                  ...     ...          ...   \n",
       "23481  I was very happy to snag this dress at such a ...       5            1   \n",
       "23482  It reminds me of maternity clothes. soft, stre...       3            1   \n",
       "23483  This fit well, but the top was very see throug...       3            0   \n",
       "23484  I bought this dress for a wedding i have this ...       3            1   \n",
       "23485  This dress in a lovely platinum is feminine an...       5            1   \n",
       "\n",
       "       Positive Feedback        Division Department   Category  \n",
       "0                      0       Initmates   Intimate  Intimates  \n",
       "1                      4         General    Dresses    Dresses  \n",
       "2                      0         General    Dresses    Dresses  \n",
       "3                      0  General Petite    Bottoms      Pants  \n",
       "4                      6         General       Tops    Blouses  \n",
       "...                  ...             ...        ...        ...  \n",
       "23481                  0  General Petite    Dresses    Dresses  \n",
       "23482                  0  General Petite       Tops      Knits  \n",
       "23483                  1  General Petite    Dresses    Dresses  \n",
       "23484                  2         General    Dresses    Dresses  \n",
       "23485                 22  General Petite    Dresses    Dresses  \n",
       "\n",
       "[23486 rows x 10 columns]>"
      ]
     },
     "execution_count": 236,
     "metadata": {},
     "output_type": "execute_result"
    }
   ],
   "source": [
    "data.describe"
   ]
  },
  {
   "cell_type": "code",
   "execution_count": 237,
   "id": "953568cf",
   "metadata": {},
   "outputs": [
    {
     "data": {
      "text/plain": [
       "(23486, 10)"
      ]
     },
     "execution_count": 237,
     "metadata": {},
     "output_type": "execute_result"
    }
   ],
   "source": [
    "data.shape"
   ]
  },
  {
   "cell_type": "code",
   "execution_count": 238,
   "id": "3693308c",
   "metadata": {},
   "outputs": [
    {
     "data": {
      "text/plain": [
       "Clothing ID             0\n",
       "Age                     0\n",
       "Title                3810\n",
       "Review                845\n",
       "Rating                  0\n",
       "Recommended             0\n",
       "Positive Feedback       0\n",
       "Division               14\n",
       "Department             14\n",
       "Category               14\n",
       "dtype: int64"
      ]
     },
     "execution_count": 238,
     "metadata": {},
     "output_type": "execute_result"
    }
   ],
   "source": [
    "data.isna().sum()"
   ]
  },
  {
   "cell_type": "code",
   "execution_count": 239,
   "id": "27d7a9b6",
   "metadata": {},
   "outputs": [],
   "source": [
    "data[data['Review']==\"\"]=np.NaN"
   ]
  },
  {
   "cell_type": "code",
   "execution_count": 290,
   "id": "c2bdb844",
   "metadata": {},
   "outputs": [],
   "source": [
    "data['Review'].fillna(\"No Review\",inplace=True)"
   ]
  },
  {
   "cell_type": "markdown",
   "id": "15508598",
   "metadata": {},
   "source": [
    "# Missing Value"
   ]
  },
  {
   "cell_type": "code",
   "execution_count": 241,
   "id": "6bf08ea0",
   "metadata": {},
   "outputs": [
    {
     "data": {
      "text/plain": [
       "Clothing ID             0\n",
       "Age                     0\n",
       "Title                3810\n",
       "Review                  0\n",
       "Rating                  0\n",
       "Recommended             0\n",
       "Positive Feedback       0\n",
       "Division               14\n",
       "Department             14\n",
       "Category               14\n",
       "dtype: int64"
      ]
     },
     "execution_count": 241,
     "metadata": {},
     "output_type": "execute_result"
    }
   ],
   "source": [
    "data.isna().sum()"
   ]
  },
  {
   "cell_type": "code",
   "execution_count": 291,
   "id": "56c6f1c7",
   "metadata": {},
   "outputs": [
    {
     "data": {
      "text/plain": [
       "0        Absolutely wonderful - silky and sexy and comf...\n",
       "1        Love this dress!  it's sooo pretty.  i happene...\n",
       "2        I had such high hopes for this dress and reall...\n",
       "3        I love, love, love this jumpsuit. it's fun, fl...\n",
       "4        This shirt is very flattering to all due to th...\n",
       "                               ...                        \n",
       "23481    I was very happy to snag this dress at such a ...\n",
       "23482    It reminds me of maternity clothes. soft, stre...\n",
       "23483    This fit well, but the top was very see throug...\n",
       "23484    I bought this dress for a wedding i have this ...\n",
       "23485    This dress in a lovely platinum is feminine an...\n",
       "Name: Review, Length: 23486, dtype: object"
      ]
     },
     "execution_count": 291,
     "metadata": {},
     "output_type": "execute_result"
    }
   ],
   "source": [
    "data['Review']"
   ]
  },
  {
   "cell_type": "markdown",
   "id": "c7514dae",
   "metadata": {},
   "source": [
    "# Define Target(y)and Feature(x)"
   ]
  },
  {
   "cell_type": "code",
   "execution_count": 243,
   "id": "dd3992b7",
   "metadata": {},
   "outputs": [
    {
     "data": {
      "text/plain": [
       "Index(['Clothing ID', 'Age', 'Title', 'Review', 'Rating', 'Recommended',\n",
       "       'Positive Feedback', 'Division', 'Department', 'Category'],\n",
       "      dtype='object')"
      ]
     },
     "execution_count": 243,
     "metadata": {},
     "output_type": "execute_result"
    }
   ],
   "source": [
    "data.columns"
   ]
  },
  {
   "cell_type": "code",
   "execution_count": 244,
   "id": "49c3fcd4",
   "metadata": {},
   "outputs": [],
   "source": [
    "x=data['Review']"
   ]
  },
  {
   "cell_type": "code",
   "execution_count": 245,
   "id": "ceee9988",
   "metadata": {},
   "outputs": [],
   "source": [
    "y=data['Rating']"
   ]
  },
  {
   "cell_type": "code",
   "execution_count": 292,
   "id": "b406889b",
   "metadata": {},
   "outputs": [
    {
     "data": {
      "text/plain": [
       "1.0    18208\n",
       "0.0     5278\n",
       "Name: Rating, dtype: int64"
      ]
     },
     "execution_count": 292,
     "metadata": {},
     "output_type": "execute_result"
    }
   ],
   "source": [
    "data['Rating'].value_counts()"
   ]
  },
  {
   "cell_type": "markdown",
   "id": "666cbaa0",
   "metadata": {},
   "source": [
    "# Train test split"
   ]
  },
  {
   "cell_type": "code",
   "execution_count": 247,
   "id": "982417a8",
   "metadata": {},
   "outputs": [],
   "source": [
    "from sklearn.model_selection import train_test_split"
   ]
  },
  {
   "cell_type": "code",
   "execution_count": 248,
   "id": "8e86f5bf",
   "metadata": {},
   "outputs": [],
   "source": [
    "x_train,x_test,y_train,y_test=train_test_split(x,y,train_size=0.7,stratify=y,random_state=2529)"
   ]
  },
  {
   "cell_type": "code",
   "execution_count": 293,
   "id": "afb8b929",
   "metadata": {},
   "outputs": [
    {
     "data": {
      "text/plain": [
       "((16440, 5000), (7046, 5000), (16440,), (7046,))"
      ]
     },
     "execution_count": 293,
     "metadata": {},
     "output_type": "execute_result"
    }
   ],
   "source": [
    "x_train.shape,x_test.shape,y_train.shape,y_test.shape"
   ]
  },
  {
   "cell_type": "markdown",
   "id": "d1a1a9d4",
   "metadata": {},
   "source": [
    "# Get feature text coversion to tokens"
   ]
  },
  {
   "cell_type": "code",
   "execution_count": 250,
   "id": "5a348ae1",
   "metadata": {},
   "outputs": [],
   "source": [
    "from sklearn.feature_extraction.text import CountVectorizer"
   ]
  },
  {
   "cell_type": "code",
   "execution_count": 251,
   "id": "95a74aa0",
   "metadata": {},
   "outputs": [],
   "source": [
    "cv=CountVectorizer(lowercase=True, analyzer='word', ngram_range=(2,3), stop_words='english', max_features=5000)"
   ]
  },
  {
   "cell_type": "code",
   "execution_count": 252,
   "id": "980fa438",
   "metadata": {},
   "outputs": [],
   "source": [
    "x_train=cv.fit_transform(x_train)"
   ]
  },
  {
   "cell_type": "code",
   "execution_count": 294,
   "id": "978d6c94",
   "metadata": {},
   "outputs": [
    {
     "data": {
      "text/plain": [
       "array(['00 petite', '0p fit', '10 12', ..., 'years come', 'yoga pants',\n",
       "       'zipper little'], dtype=object)"
      ]
     },
     "execution_count": 294,
     "metadata": {},
     "output_type": "execute_result"
    }
   ],
   "source": [
    "cv.get_feature_names_out()"
   ]
  },
  {
   "cell_type": "markdown",
   "id": "fa4a009e",
   "metadata": {},
   "source": [
    "# get model train"
   ]
  },
  {
   "cell_type": "code",
   "execution_count": 254,
   "id": "e9b73a4b",
   "metadata": {},
   "outputs": [
    {
     "data": {
      "text/plain": [
       "array([[0, 0, 0, ..., 0, 0, 0],\n",
       "       [0, 0, 0, ..., 0, 0, 0],\n",
       "       [0, 0, 0, ..., 0, 0, 0],\n",
       "       ...,\n",
       "       [0, 0, 0, ..., 0, 0, 0],\n",
       "       [0, 0, 0, ..., 0, 0, 0],\n",
       "       [0, 0, 0, ..., 0, 0, 0]], dtype=int64)"
      ]
     },
     "execution_count": 254,
     "metadata": {},
     "output_type": "execute_result"
    }
   ],
   "source": [
    "x_train.toarray()"
   ]
  },
  {
   "cell_type": "code",
   "execution_count": 255,
   "id": "48a63e03",
   "metadata": {},
   "outputs": [],
   "source": [
    "x_test=cv.fit_transform(x_test)"
   ]
  },
  {
   "cell_type": "code",
   "execution_count": 256,
   "id": "5aca292b",
   "metadata": {},
   "outputs": [
    {
     "data": {
      "text/plain": [
       "array(['10 12', '10 dress', '10 fit', ..., 'years come', 'years old',\n",
       "       'yoga pants'], dtype=object)"
      ]
     },
     "execution_count": 256,
     "metadata": {},
     "output_type": "execute_result"
    }
   ],
   "source": [
    "cv.get_feature_names_out()"
   ]
  },
  {
   "cell_type": "code",
   "execution_count": 257,
   "id": "e0a4adfa",
   "metadata": {},
   "outputs": [
    {
     "data": {
      "text/plain": [
       "array([[0, 0, 0, ..., 0, 0, 0],\n",
       "       [0, 0, 0, ..., 0, 0, 0],\n",
       "       [0, 0, 0, ..., 0, 0, 0],\n",
       "       ...,\n",
       "       [0, 0, 0, ..., 0, 0, 0],\n",
       "       [0, 0, 0, ..., 0, 0, 0],\n",
       "       [0, 0, 0, ..., 0, 0, 0]], dtype=int64)"
      ]
     },
     "execution_count": 257,
     "metadata": {},
     "output_type": "execute_result"
    }
   ],
   "source": [
    "x_test.toarray()"
   ]
  },
  {
   "cell_type": "code",
   "execution_count": 258,
   "id": "e6954ef0",
   "metadata": {},
   "outputs": [],
   "source": [
    "from sklearn.naive_bayes import MultinomialNB"
   ]
  },
  {
   "cell_type": "code",
   "execution_count": 259,
   "id": "7bfcedf4",
   "metadata": {},
   "outputs": [],
   "source": [
    "model=MultinomialNB()"
   ]
  },
  {
   "cell_type": "code",
   "execution_count": 295,
   "id": "a192230e",
   "metadata": {},
   "outputs": [
    {
     "data": {
      "text/plain": [
       "MultinomialNB()"
      ]
     },
     "execution_count": 295,
     "metadata": {},
     "output_type": "execute_result"
    }
   ],
   "source": [
    "model.fit(x_train,y_train)"
   ]
  },
  {
   "cell_type": "markdown",
   "id": "70a4e8b2",
   "metadata": {},
   "source": [
    "# Get model predict"
   ]
  },
  {
   "cell_type": "code",
   "execution_count": 261,
   "id": "6673fcb2",
   "metadata": {},
   "outputs": [],
   "source": [
    "y_pred=model.predict(x_test)"
   ]
  },
  {
   "cell_type": "code",
   "execution_count": 262,
   "id": "a274733e",
   "metadata": {},
   "outputs": [
    {
     "data": {
      "text/plain": [
       "(7046,)"
      ]
     },
     "execution_count": 262,
     "metadata": {},
     "output_type": "execute_result"
    }
   ],
   "source": [
    "y_pred.shape"
   ]
  },
  {
   "cell_type": "code",
   "execution_count": 296,
   "id": "98aaef17",
   "metadata": {},
   "outputs": [
    {
     "data": {
      "text/plain": [
       "array([1., 1., 1., ..., 1., 1., 1.])"
      ]
     },
     "execution_count": 296,
     "metadata": {},
     "output_type": "execute_result"
    }
   ],
   "source": [
    "y_pred"
   ]
  },
  {
   "cell_type": "markdown",
   "id": "41e2728e",
   "metadata": {},
   "source": [
    "# Get Probability of each predicted classes"
   ]
  },
  {
   "cell_type": "code",
   "execution_count": 297,
   "id": "6a77fd4e",
   "metadata": {},
   "outputs": [
    {
     "data": {
      "text/plain": [
       "array([[5.43140171e-02, 9.45685983e-01],\n",
       "       [1.58169512e-01, 8.41830488e-01],\n",
       "       [7.31367350e-03, 9.92686326e-01],\n",
       "       ...,\n",
       "       [3.92486843e-04, 9.99607513e-01],\n",
       "       [2.24756691e-01, 7.75243309e-01],\n",
       "       [5.78360255e-02, 9.42163975e-01]])"
      ]
     },
     "execution_count": 297,
     "metadata": {},
     "output_type": "execute_result"
    }
   ],
   "source": [
    "model.predict_proba(x_test)"
   ]
  },
  {
   "cell_type": "markdown",
   "id": "e8c12191",
   "metadata": {},
   "source": [
    "# Get model Evaluation"
   ]
  },
  {
   "cell_type": "code",
   "execution_count": 265,
   "id": "e049c7fe",
   "metadata": {},
   "outputs": [],
   "source": [
    "from sklearn.metrics import confusion_matrix,classification_report"
   ]
  },
  {
   "cell_type": "code",
   "execution_count": 266,
   "id": "bb0b42bf",
   "metadata": {},
   "outputs": [
    {
     "name": "stdout",
     "output_type": "stream",
     "text": [
      "[[  15   13   45   36  144]\n",
      " [  43   43   86   85  213]\n",
      " [ 116   78  113  166  388]\n",
      " [ 166  108  194  336  719]\n",
      " [ 371  272  349  722 2225]]\n"
     ]
    }
   ],
   "source": [
    "print(confusion_matrix(y_test,y_pred))"
   ]
  },
  {
   "cell_type": "code",
   "execution_count": 267,
   "id": "d1909fc6",
   "metadata": {},
   "outputs": [
    {
     "name": "stdout",
     "output_type": "stream",
     "text": [
      "              precision    recall  f1-score   support\n",
      "\n",
      "         1.0       0.06      0.02      0.03       711\n",
      "         2.0       0.09      0.08      0.09       514\n",
      "         3.0       0.13      0.14      0.14       787\n",
      "         4.0       0.22      0.25      0.23      1345\n",
      "         5.0       0.56      0.60      0.58      3689\n",
      "\n",
      "    accuracy                           0.39      7046\n",
      "   macro avg       0.21      0.22      0.21      7046\n",
      "weighted avg       0.37      0.39      0.37      7046\n",
      "\n"
     ]
    }
   ],
   "source": [
    "print(classification_report(y_pred,y_test))"
   ]
  },
  {
   "cell_type": "markdown",
   "id": "694b94aa",
   "metadata": {},
   "source": [
    "# Recategorise rating as poor(0) and good(1)"
   ]
  },
  {
   "cell_type": "code",
   "execution_count": 268,
   "id": "f90aa420",
   "metadata": {},
   "outputs": [
    {
     "data": {
      "text/plain": [
       "5.0    13131\n",
       "4.0     5077\n",
       "3.0     2871\n",
       "2.0     1565\n",
       "1.0      842\n",
       "Name: Rating, dtype: int64"
      ]
     },
     "execution_count": 268,
     "metadata": {},
     "output_type": "execute_result"
    }
   ],
   "source": [
    "data['Rating'].value_counts()"
   ]
  },
  {
   "cell_type": "code",
   "execution_count": 269,
   "id": "fe1020bc",
   "metadata": {},
   "outputs": [],
   "source": [
    "data.replace({'Rating':{1:0,2:0,3:0,4:1,5:1}},inplace=True)"
   ]
  },
  {
   "cell_type": "code",
   "execution_count": 270,
   "id": "361aa48b",
   "metadata": {},
   "outputs": [],
   "source": [
    "y=data['Rating']"
   ]
  },
  {
   "cell_type": "code",
   "execution_count": 271,
   "id": "415f73d8",
   "metadata": {},
   "outputs": [],
   "source": [
    "x=data['Review']"
   ]
  },
  {
   "cell_type": "markdown",
   "id": "56d02560",
   "metadata": {},
   "source": [
    "# Train Test Split"
   ]
  },
  {
   "cell_type": "code",
   "execution_count": 272,
   "id": "565958a9",
   "metadata": {},
   "outputs": [],
   "source": [
    "from sklearn.model_selection import train_test_split"
   ]
  },
  {
   "cell_type": "code",
   "execution_count": 273,
   "id": "c7f86250",
   "metadata": {},
   "outputs": [],
   "source": [
    "x_train,x_test,y_train,y_test=train_test_split(x,y,train_size=0.7,stratify=y,random_state=2529)"
   ]
  },
  {
   "cell_type": "code",
   "execution_count": 274,
   "id": "b6b68522",
   "metadata": {},
   "outputs": [
    {
     "data": {
      "text/plain": [
       "((16440,), (7046,), (16440,), (7046,))"
      ]
     },
     "execution_count": 274,
     "metadata": {},
     "output_type": "execute_result"
    }
   ],
   "source": [
    "x_train.shape,x_test.shape,y_train.shape,y_test.shape"
   ]
  },
  {
   "cell_type": "markdown",
   "id": "db259948",
   "metadata": {},
   "source": [
    "# Get feature text coversion to tokens"
   ]
  },
  {
   "cell_type": "code",
   "execution_count": 275,
   "id": "a4c6ce5c",
   "metadata": {},
   "outputs": [],
   "source": [
    "from sklearn.feature_extraction.text import CountVectorizer"
   ]
  },
  {
   "cell_type": "code",
   "execution_count": 276,
   "id": "c2bf08e7",
   "metadata": {},
   "outputs": [],
   "source": [
    "cv=CountVectorizer(lowercase=True, analyzer='word', ngram_range=(2,3), stop_words='english', max_features=5000)"
   ]
  },
  {
   "cell_type": "code",
   "execution_count": 277,
   "id": "7c3dbb26",
   "metadata": {},
   "outputs": [],
   "source": [
    "x_train=cv.fit_transform(x_train)"
   ]
  },
  {
   "cell_type": "code",
   "execution_count": 278,
   "id": "7d955a3f",
   "metadata": {},
   "outputs": [],
   "source": [
    "x_test=cv.fit_transform(x_test)"
   ]
  },
  {
   "cell_type": "markdown",
   "id": "85db742d",
   "metadata": {},
   "source": [
    "# Get Model Re-Train"
   ]
  },
  {
   "cell_type": "code",
   "execution_count": 279,
   "id": "f5cc08e6",
   "metadata": {},
   "outputs": [],
   "source": [
    "from sklearn.naive_bayes import MultinomialNB"
   ]
  },
  {
   "cell_type": "code",
   "execution_count": 280,
   "id": "d0300d74",
   "metadata": {},
   "outputs": [],
   "source": [
    "model=MultinomialNB()"
   ]
  },
  {
   "cell_type": "code",
   "execution_count": 281,
   "id": "e89a219c",
   "metadata": {},
   "outputs": [
    {
     "data": {
      "text/plain": [
       "MultinomialNB()"
      ]
     },
     "execution_count": 281,
     "metadata": {},
     "output_type": "execute_result"
    }
   ],
   "source": [
    "model.fit(x_train,y_train)"
   ]
  },
  {
   "cell_type": "code",
   "execution_count": 282,
   "id": "bcdb9968",
   "metadata": {},
   "outputs": [],
   "source": [
    "y_pred=model.predict(x_test)"
   ]
  },
  {
   "cell_type": "code",
   "execution_count": 283,
   "id": "5d9e5b93",
   "metadata": {},
   "outputs": [
    {
     "data": {
      "text/plain": [
       "(7046,)"
      ]
     },
     "execution_count": 283,
     "metadata": {},
     "output_type": "execute_result"
    }
   ],
   "source": [
    "y_pred.shape"
   ]
  },
  {
   "cell_type": "code",
   "execution_count": 284,
   "id": "707ee38e",
   "metadata": {},
   "outputs": [
    {
     "data": {
      "text/plain": [
       "array([1., 1., 1., ..., 1., 1., 1.])"
      ]
     },
     "execution_count": 284,
     "metadata": {},
     "output_type": "execute_result"
    }
   ],
   "source": [
    "y_pred"
   ]
  },
  {
   "cell_type": "code",
   "execution_count": 285,
   "id": "dd8bbd6b",
   "metadata": {},
   "outputs": [],
   "source": [
    "from sklearn.metrics import confusion_matrix,classification_report"
   ]
  },
  {
   "cell_type": "code",
   "execution_count": 286,
   "id": "dff492a0",
   "metadata": {},
   "outputs": [
    {
     "name": "stdout",
     "output_type": "stream",
     "text": [
      "[[ 449 1134]\n",
      " [ 989 4474]]\n"
     ]
    }
   ],
   "source": [
    "print(confusion_matrix(y_test,y_pred))"
   ]
  },
  {
   "cell_type": "code",
   "execution_count": 287,
   "id": "a70a7bb7",
   "metadata": {},
   "outputs": [
    {
     "name": "stdout",
     "output_type": "stream",
     "text": [
      "              precision    recall  f1-score   support\n",
      "\n",
      "         0.0       0.31      0.28      0.30      1583\n",
      "         1.0       0.80      0.82      0.81      5463\n",
      "\n",
      "    accuracy                           0.70      7046\n",
      "   macro avg       0.56      0.55      0.55      7046\n",
      "weighted avg       0.69      0.70      0.69      7046\n",
      "\n"
     ]
    }
   ],
   "source": [
    "print(classification_report(y_test,y_pred))"
   ]
  }
 ],
 "metadata": {
  "kernelspec": {
   "display_name": "Python 3 (ipykernel)",
   "language": "python",
   "name": "python3"
  },
  "language_info": {
   "codemirror_mode": {
    "name": "ipython",
    "version": 3
   },
   "file_extension": ".py",
   "mimetype": "text/x-python",
   "name": "python",
   "nbconvert_exporter": "python",
   "pygments_lexer": "ipython3",
   "version": "3.9.12"
  }
 },
 "nbformat": 4,
 "nbformat_minor": 5
}
